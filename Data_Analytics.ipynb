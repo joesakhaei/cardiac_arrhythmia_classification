{
 "cells": [
  {
   "cell_type": "code",
   "execution_count": null,
   "id": "b444bce7-b2a6-48cf-b255-81b800c280ae",
   "metadata": {},
   "outputs": [],
   "source": [
    "import warnings\n",
    "warnings.simplefilter(action='ignore')\n",
    "\n",
    "import findspark\n",
    "findspark.init()\n",
    "from pyspark.sql import SparkSession\n",
    "spark = SparkSession.builder.appName(\"Test\").master(\"local\").getOrCreate()\n",
    "spark.sparkContext.setLogLevel(\"ERROR\")"
   ]
  },
  {
   "cell_type": "code",
   "execution_count": 2,
   "id": "f9902c0f-a5e6-47b6-8164-1826628473b5",
   "metadata": {},
   "outputs": [],
   "source": [
    "import pyspark.sql.functions as F\n",
    "\n",
    "from pyspark.ml import Pipeline, PipelineModel\n",
    "from pyspark.ml.feature import RFormula, VectorAssembler, VectorIndexer, MinMaxScaler, Imputer, ImputerModel\n",
    "from pyspark.ml.classification import RandomForestClassifier, LogisticRegression, RandomForestClassificationModel, LogisticRegressionModel\n",
    "from pyspark.ml.evaluation import MulticlassClassificationEvaluator\n",
    "from pyspark.mllib.evaluation import MulticlassMetrics\n",
    "from pyspark.ml.tuning import CrossValidator, ParamGridBuilder\n",
    "\n",
    "from sklearn.metrics import classification_report, confusion_matrix\n",
    "import seaborn as sns\n",
    "import matplotlib.pyplot as plt\n",
    "import pandas as pd\n",
    "import numpy as np"
   ]
  },
  {
   "cell_type": "markdown",
   "id": "e12325e2-a201-4bd9-90ff-cd7e5d43873f",
   "metadata": {},
   "source": [
    "### Ingestion"
   ]
  },
  {
   "cell_type": "code",
   "execution_count": 3,
   "id": "65761cd3-6600-44e1-b438-6d586153227f",
   "metadata": {},
   "outputs": [],
   "source": [
    "colnames = [\"col\" + str(c) for c in range(1, 280)] + [\"target\"]\n",
    "schema = \" DOUBLE, \".join(colnames) + \" INT\"\n",
    "\n",
    "df0 = spark.read.csv(\"build_docker/arrhythmia.data\", schema=schema, inferSchema=False, header=False, nullValue=\"?\")"
   ]
  },
  {
   "cell_type": "markdown",
   "id": "0b695f45-087b-49f7-92c6-af7240243ab3",
   "metadata": {},
   "source": [
    "#### Missing Records"
   ]
  },
  {
   "cell_type": "code",
   "execution_count": 4,
   "id": "d32487d4-ad5e-4bd4-a9ed-cefd1309663f",
   "metadata": {},
   "outputs": [
    {
     "name": "stderr",
     "output_type": "stream",
     "text": [
      "                                                                                \r"
     ]
    },
    {
     "name": "stdout",
     "output_type": "stream",
     "text": [
      "col11  Null Count:  8\n",
      "col12  Null Count:  22\n",
      "col13  Null Count:  1\n",
      "col14  Null Count:  376\n",
      "col15  Null Count:  1\n"
     ]
    }
   ],
   "source": [
    "null_counts = df0.select([ F.count(F.when(F.col(c).isNull(), c)).alias(c) for c in df0.columns ]).toPandas().values.flatten()\n",
    "\n",
    "for i in range(len(colnames)):\n",
    "    if (null_counts[i] > 0):\n",
    "        print(colnames[i], \" Null Count: \", null_counts[i])"
   ]
  },
  {
   "cell_type": "markdown",
   "id": "c4712b4c-5435-4ca2-941f-4374d61d832c",
   "metadata": {},
   "source": [
    "#### Columns with constant value"
   ]
  },
  {
   "cell_type": "code",
   "execution_count": 5,
   "id": "194fbc9f-0aef-41e8-8753-7513f4aa5c37",
   "metadata": {},
   "outputs": [
    {
     "data": {
      "text/plain": [
       "['col20',\n",
       " 'col68',\n",
       " 'col70',\n",
       " 'col84',\n",
       " 'col132',\n",
       " 'col133',\n",
       " 'col140',\n",
       " 'col142',\n",
       " 'col144',\n",
       " 'col146',\n",
       " 'col152',\n",
       " 'col157',\n",
       " 'col158',\n",
       " 'col165',\n",
       " 'col205',\n",
       " 'col265',\n",
       " 'col275']"
      ]
     },
     "execution_count": 5,
     "metadata": {},
     "output_type": "execute_result"
    }
   ],
   "source": [
    "unique_counts = df0.toPandas().nunique(axis=0).values\n",
    "monotonous_cols = [(\"col\"+str(i+1)) for i,c in enumerate(unique_counts) if c < 2]\n",
    "monotonous_cols"
   ]
  },
  {
   "cell_type": "markdown",
   "id": "80a694e9-2375-49ef-adab-e4045111d75b",
   "metadata": {},
   "source": [
    "### Check Auto-Correlation of Data"
   ]
  },
  {
   "cell_type": "code",
   "execution_count": 8,
   "id": "de16e7b7-e20b-4aea-807d-9c6b6d50c331",
   "metadata": {},
   "outputs": [],
   "source": [
    "corr = df0.select(*[\n",
    "    c for c in colnames if c not in monotonous_cols\n",
    "]).toPandas().corr().values\n",
    "\n",
    "corr = np.triu(corr, k=1)"
   ]
  },
  {
   "cell_type": "markdown",
   "id": "e00010c9-4dd6-4b5d-82cd-36eccc74a13c",
   "metadata": {},
   "source": [
    "- Combination of column indices with abs(pearson_corr) > .9"
   ]
  },
  {
   "cell_type": "code",
   "execution_count": 19,
   "id": "bd84773a-21b6-48c8-b2e4-cea0b57ac9e8",
   "metadata": {},
   "outputs": [
    {
     "data": {
      "text/plain": [
       "[(15, 147),\n",
       " (18, 150),\n",
       " (26, 156),\n",
       " (42, 170),\n",
       " (52, 178),\n",
       " (53, 179),\n",
       " (54, 180),\n",
       " (65, 189),\n",
       " (76, 199),\n",
       " (87, 209),\n",
       " (99, 219),\n",
       " (111, 228),\n",
       " (123, 239),\n",
       " (132, 248),\n",
       " (140, 257),\n",
       " (157, 196),\n",
       " (167, 196),\n",
       " (173, 192),\n",
       " (173, 202)]"
      ]
     },
     "execution_count": 19,
     "metadata": {},
     "output_type": "execute_result"
    }
   ],
   "source": [
    "indices = np.where(np.abs(corr) > .9)\n",
    "## Better representation\n",
    "list(zip(indices[0], indices[1]))"
   ]
  },
  {
   "cell_type": "code",
   "execution_count": null,
   "id": "ed9d0cfe-1f9b-45a0-a1ad-40c3ac11d162",
   "metadata": {},
   "outputs": [],
   "source": [
    "sns.set(font_scale=.8) # for label size\n",
    "sns.heatmap(\n",
    "    pd.DataFrame(\n",
    "        np.triu(corr.values, k=1),\n",
    "        index=corr.index,\n",
    "        columns=corr.columns\n",
    "    ),\n",
    "    annot=True,\n",
    "    cbar=False,\n",
    "    cmap='gray_r'\n",
    ")\n",
    "\n",
    "plt.xlabel(\"Variable\")\n",
    "plt.ylabel(\"Variable\")\n",
    "\n",
    "fig = plt.gcf()\n",
    "fig.set_size_inches(10,9)\n",
    "fig.patch.set_facecolor('lightgray')\n",
    "plt.show()"
   ]
  },
  {
   "cell_type": "markdown",
   "id": "218495be-f684-4276-871e-e32048a5c485",
   "metadata": {},
   "source": [
    "#### Data Summary (First 15 records)"
   ]
  },
  {
   "cell_type": "code",
   "execution_count": 9,
   "id": "3e50125a-a73a-4267-8e90-de92eba491e3",
   "metadata": {},
   "outputs": [
    {
     "name": "stdout",
     "output_type": "stream",
     "text": [
      "+-------+----+----+-----+-----+-----+-----+-----+-----+-----+------+------+------+------+------+-----+\n",
      "|summary|col1|col2| col3| col4| col5| col6| col7| col8| col9| col10| col11| col12| col13| col14|col15|\n",
      "+-------+----+----+-----+-----+-----+-----+-----+-----+-----+------+------+------+------+------+-----+\n",
      "|   mean|46.5| 0.6|166.2| 68.2| 88.9|155.2|367.2|169.9| 90.0|  33.7|  36.2|  48.9|  36.7| -13.6| 74.5|\n",
      "| stddev|16.5| 0.5| 37.2| 16.6| 15.4| 44.8| 33.4| 35.6| 25.8|  45.4|  57.9|  29.3|  36.0| 127.2| 13.9|\n",
      "|    min| 0.0| 0.0|105.0|  6.0| 55.0|  0.0|232.0|108.0|  0.0|-172.0|-177.0|-170.0|-135.0|-179.0| 44.0|\n",
      "|    max|83.0| 1.0|780.0|176.0|188.0|524.0|509.0|381.0|205.0| 169.0| 179.0| 176.0| 166.0| 178.0|163.0|\n",
      "+-------+----+----+-----+-----+-----+-----+-----+-----+-----+------+------+------+------+------+-----+\n",
      "\n"
     ]
    }
   ],
   "source": [
    "df0.describe(colnames[:15])\\\n",
    "    .filter(F.col('summary') != \"count\")\\\n",
    "    .select(['summary'] + [F.round(F.col(c), 1).alias(c) for c in colnames[:15]])\\\n",
    "    .show()"
   ]
  },
  {
   "cell_type": "markdown",
   "id": "3548d5b5-0eef-4799-9c42-e602a78daa40",
   "metadata": {},
   "source": [
    "### Pre-processing features"
   ]
  },
  {
   "cell_type": "code",
   "execution_count": 11,
   "id": "eb965549-0a96-4384-98a8-1588f77a6b76",
   "metadata": {},
   "outputs": [],
   "source": [
    "toImpute_cols = ['col11', 'col12', 'col13', 'col15'] # col14 dropped due to majority missing\n",
    "imputer = Imputer(strategy='mean', inputCols=toImpute_cols, outputCols=toImpute_cols)\n",
    "\n",
    "input_cols = list(set(colnames) -set(['col14', 'target']) -set(monotonous_cols))\n",
    "assembler = VectorAssembler(inputCols=input_cols, outputCol='features')\n",
    "indexer = VectorIndexer(inputCol=assembler.getOutputCol(), outputCol='indexed_features', maxCategories=2)\n",
    "\n",
    "prep_stages = [imputer, assembler, indexer]\n",
    "prep_pipe = Pipeline().setStages(prep_stages).fit(df0)"
   ]
  },
  {
   "cell_type": "markdown",
   "id": "18df0fc0-afaa-407b-893c-f6933f44b9cf",
   "metadata": {},
   "source": [
    "#### Train/Test Split"
   ]
  },
  {
   "cell_type": "code",
   "execution_count": 12,
   "id": "5f0c1717-d3c3-42c7-bff8-aec09d80c50f",
   "metadata": {},
   "outputs": [],
   "source": [
    "(trainingData, testData) = prep_pipe.transform(df0).randomSplit([0.85, 0.15], seed=123456)"
   ]
  },
  {
   "cell_type": "markdown",
   "id": "853b2543-573f-498b-be56-50cbff41bb00",
   "metadata": {},
   "source": [
    "## Random Forest Performance"
   ]
  },
  {
   "cell_type": "code",
   "execution_count": 15,
   "id": "ca3131d5-bb49-4765-b898-55d1a0965ad1",
   "metadata": {},
   "outputs": [
    {
     "name": "stdout",
     "output_type": "stream",
     "text": [
      "Random Forest Accuracy on Test data is: 0.76\n"
     ]
    }
   ],
   "source": [
    "rf = RandomForestClassifier(\n",
    "    labelCol=\"target\", featuresCol='indexed_features',\n",
    "    numTrees=30,\n",
    "    maxDepth=30,\n",
    "    seed=12345\n",
    ").fit(trainingData)\n",
    "\n",
    "predictions = rf.transform(testData)\n",
    "evaluator = MulticlassClassificationEvaluator(\n",
    "    labelCol=\"target\", predictionCol=\"prediction\", metricName=\"accuracy\"\n",
    ")\n",
    "\n",
    "print(\"Random Forest Accuracy on Test data is: %.2f\" % (evaluator.evaluate(predictions)))"
   ]
  },
  {
   "cell_type": "code",
   "execution_count": 31,
   "id": "f79f5869-2d9e-45da-ae9c-a8fa765ce352",
   "metadata": {},
   "outputs": [
    {
     "name": "stdout",
     "output_type": "stream",
     "text": [
      "Model Perf:\n",
      "               precision    recall  f1-score   support\n",
      "\n",
      "           1       0.80      0.96      0.87        49\n",
      "           2       0.78      0.78      0.78         9\n",
      "           4       0.00      0.00      0.00         2\n",
      "           5       0.00      0.00      0.00         1\n",
      "           7       0.00      0.00      0.00         2\n",
      "          10       0.50      0.50      0.50         8\n",
      "          14       0.00      0.00      0.00         2\n",
      "          16       0.00      0.00      0.00         3\n",
      "\n",
      "    accuracy                           0.76        76\n",
      "   macro avg       0.26      0.28      0.27        76\n",
      "weighted avg       0.66      0.76      0.71        76\n",
      "\n"
     ]
    }
   ],
   "source": [
    "y_true = predictions.select(['target']).toPandas().values\n",
    "y_pred = predictions.select(['prediction']).toPandas().values\n",
    "\n",
    "print(\"Model Perf:\\n\", classification_report(y_true, y_pred))"
   ]
  },
  {
   "cell_type": "code",
   "execution_count": 38,
   "id": "e43647f9-4559-4421-b884-54eb21ae26d8",
   "metadata": {},
   "outputs": [
    {
     "data": {
      "image/png": "[encoded data removed]",
      "text/plain": [
       "<Figure size 720x648 with 1 Axes>"
      ]
     },
     "metadata": {},
     "output_type": "display_data"
    }
   ],
   "source": [
    "sns.set(font_scale=.8) # for label size\n",
    "sns.heatmap(\n",
    "    pd.DataFrame(\n",
    "        confusion_matrix(y_true, y_pred, labels=sorted(np.unique(y_true))),\n",
    "        index=sorted(np.unique(y_true)),\n",
    "        columns=sorted(np.unique(y_true))\n",
    "    ),\n",
    "    annot=True,\n",
    "    cbar=False,\n",
    "    cmap='gray_r'\n",
    ")\n",
    "\n",
    "plt.xlabel(\"Actual Classes\")\n",
    "plt.ylabel(\"Ran. Forest Predicted Classes\")\n",
    "\n",
    "fig = plt.gcf()\n",
    "fig.set_size_inches(10,9)\n",
    "fig.patch.set_facecolor('lightgray')\n",
    "plt.show()"
   ]
  },
  {
   "cell_type": "markdown",
   "id": "fb02ad76-7230-4b57-8bec-b61af6cc050b",
   "metadata": {},
   "source": [
    "### Random Forest Feature Importances (top 20)"
   ]
  },
  {
   "cell_type": "code",
   "execution_count": 30,
   "id": "8740c69f-cd98-42c6-a73a-5c8fc2e946df",
   "metadata": {},
   "outputs": [
    {
     "data": {
      "image/png": "[encoded data removed]",
      "text/plain": [
       "<Figure size 576x432 with 1 Axes>"
      ]
     },
     "metadata": {
      "needs_background": "light"
     },
     "output_type": "display_data"
    }
   ],
   "source": [
    "pd.DataFrame(list(zip(input_cols ,rf.featureImportances)), columns=['feature', 'importance'])\\\n",
    "    .set_index('feature')\\\n",
    "    .sort_values('importance', ascending=False)\\\n",
    "    .head(20)\\\n",
    "    .sort_values('importance')\\\n",
    "    .plot(kind='barh')\n",
    "\n",
    "fig = plt.gcf()\n",
    "fig.set_size_inches(8,6)\n",
    "\n",
    "plt.grid()\n",
    "plt.show()"
   ]
  },
  {
   "cell_type": "code",
   "execution_count": null,
   "id": "e445122b-3821-47ad-b392-a6053005ceaf",
   "metadata": {},
   "outputs": [],
   "source": []
  },
  {
   "cell_type": "markdown",
   "id": "30c855a9-dffc-4259-90e1-da87971b47ac",
   "metadata": {},
   "source": [
    "## Logistic Regression Performance"
   ]
  },
  {
   "cell_type": "code",
   "execution_count": 43,
   "id": "42c98e7e-a234-49e7-a218-e81e5ee67ab8",
   "metadata": {},
   "outputs": [
    {
     "name": "stdout",
     "output_type": "stream",
     "text": [
      "Random Forest Accuracy on Test data is: 0.70\n",
      "Model Perf:\n",
      "               precision    recall  f1-score   support\n",
      "\n",
      "         1.0       0.79      0.92      0.85        49\n",
      "         2.0       0.57      0.44      0.50         9\n",
      "         4.0       0.00      0.00      0.00         2\n",
      "         5.0       0.00      0.00      0.00         1\n",
      "         6.0       0.00      0.00      0.00         0\n",
      "         7.0       0.00      0.00      0.00         2\n",
      "        10.0       0.80      0.50      0.62         8\n",
      "        14.0       0.00      0.00      0.00         2\n",
      "        16.0       0.00      0.00      0.00         3\n",
      "\n",
      "    accuracy                           0.70        76\n",
      "   macro avg       0.24      0.21      0.22        76\n",
      "weighted avg       0.66      0.70      0.67        76\n",
      "\n"
     ]
    }
   ],
   "source": [
    "lr = LogisticRegression(\n",
    "    labelCol=\"target\", featuresCol='indexed_features',\n",
    "    maxIter=100,\n",
    "    regParam=.05,\n",
    "    elasticNetParam=0,\n",
    "    fitIntercept=True\n",
    ").fit(trainingData)\n",
    "\n",
    "predictions = lr.transform(testData)\n",
    "evaluator = MulticlassClassificationEvaluator(\n",
    "    labelCol=\"target\", predictionCol=\"prediction\", metricName=\"accuracy\"\n",
    ")\n",
    "\n",
    "print(\"Random Forest Accuracy on Test data is: %.2f\" % (evaluator.evaluate(predictions)))\n",
    "\n",
    "y_true = predictions.select(['target']).toPandas().values\n",
    "y_pred = predictions.select(['prediction']).toPandas().values\n",
    "\n",
    "print(\"Model Perf:\\n\", classification_report(y_true, y_pred))"
   ]
  },
  {
   "cell_type": "code",
   "execution_count": 56,
   "id": "102640df-e90c-4c7d-943b-346d28d48a12",
   "metadata": {},
   "outputs": [
    {
     "data": {
      "image/png": "[encoded data removed]",
      "text/plain": [
       "<Figure size 720x648 with 1 Axes>"
      ]
     },
     "metadata": {},
     "output_type": "display_data"
    }
   ],
   "source": [
    "sns.set(font_scale=.8) # for label size\n",
    "sns.heatmap(\n",
    "    pd.DataFrame(\n",
    "        confusion_matrix(y_true, y_pred, labels=sorted(np.unique(y_true))),\n",
    "        index=sorted(np.unique(y_true)),\n",
    "        columns=sorted(np.unique(y_true))\n",
    "    ),\n",
    "    annot=True,\n",
    "    cbar=False,\n",
    "    cmap='gray_r'\n",
    ")\n",
    "\n",
    "plt.xlabel(\"Actual Classes\")\n",
    "plt.ylabel(\"Logit. Regression Predicted Classes\")\n",
    "\n",
    "fig = plt.gcf()\n",
    "fig.set_size_inches(10,9)\n",
    "fig.patch.set_facecolor('lightgray')\n",
    "plt.show()"
   ]
  },
  {
   "cell_type": "code",
   "execution_count": null,
   "id": "f8c09f53-84f0-4478-bf99-4a5da6d6d6ad",
   "metadata": {},
   "outputs": [],
   "source": []
  },
  {
   "cell_type": "code",
   "execution_count": null,
   "id": "817e3d64-076c-4d30-8b3c-66199d4c9f93",
   "metadata": {},
   "outputs": [],
   "source": []
  }
 ],
 "metadata": {
  "kernelspec": {
   "display_name": "Python 3 (ipykernel)",
   "language": "python",
   "name": "python3"
  },
  "language_info": {
   "codemirror_mode": {
    "name": "ipython",
    "version": 3
   },
   "file_extension": ".py",
   "mimetype": "text/x-python",
   "name": "python",
   "nbconvert_exporter": "python",
   "pygments_lexer": "ipython3",
   "version": "3.9.10"
  }
 },
 "nbformat": 4,
 "nbformat_minor": 5
}
